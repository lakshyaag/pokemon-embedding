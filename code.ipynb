{
 "cells": [
  {
   "cell_type": "code",
   "execution_count": 28,
   "metadata": {},
   "outputs": [
    {
     "name": "stdout",
     "output_type": "stream",
     "text": [
      "The rich extension is already loaded. To reload it, use:\n",
      "  %reload_ext rich\n"
     ]
    }
   ],
   "source": [
    "import os\n",
    "from dotenv import load_dotenv, find_dotenv\n",
    "\n",
    "load_dotenv(find_dotenv())\n",
    "%load_ext rich"
   ]
  },
  {
   "cell_type": "code",
   "execution_count": 89,
   "metadata": {},
   "outputs": [],
   "source": [
    "import base64\n",
    "import io\n",
    "from langchain_openai import ChatOpenAI\n",
    "from PIL import Image\n",
    "from textwrap import dedent\n",
    "from pydantic import BaseModel, Field\n",
    "from langchain_core.messages import HumanMessage, SystemMessage"
   ]
  },
  {
   "cell_type": "code",
   "execution_count": 71,
   "metadata": {},
   "outputs": [],
   "source": [
    "def convert_image_to_base64(image):\n",
    "    # Convert PIL Image to bytes\n",
    "    img_byte_arr = io.BytesIO()\n",
    "    image.save(img_byte_arr, format=image.format)\n",
    "    img_bytes = img_byte_arr.getvalue()\n",
    "\n",
    "    return base64.b64encode(img_bytes).decode(\"utf-8\")\n"
   ]
  },
  {
   "cell_type": "code",
   "execution_count": null,
   "metadata": {},
   "outputs": [],
   "source": [
    "class Nicknames(BaseModel):\n",
    "    nicknames: list[str] = Field(\n",
    "        description=\"A list of words that reflect possible nicknames for the sprite\",\n",
    "    )"
   ]
  },
  {
   "cell_type": "code",
   "execution_count": 114,
   "metadata": {},
   "outputs": [],
   "source": [
    "def get_nicknames(pokemon_name):\n",
    "    # Encode bytes to base64\n",
    "    pokemon_image = Image.open(f\"sprites/{pokemon_name}_combined.png\")\n",
    "    pokemon_image_b64 = convert_image_to_base64(pokemon_image)\n",
    "\n",
    "    display(pokemon_image)\n",
    "\n",
    "    model = ChatOpenAI(model=\"gpt-4o\", temperature=0.7)\n",
    "\n",
    "    messages = [\n",
    "        SystemMessage(\n",
    "            dedent(\"\"\"\n",
    "    Please provide a list of 5 words from the English dictionary for this sprite that reflect possible nicknames. Each word should be a single word and be appropriate for a nickname.\n",
    "    \"\"\")\n",
    "        ),\n",
    "        HumanMessage(\n",
    "            [\n",
    "                {\n",
    "                    \"type\": \"image_url\",\n",
    "                    \"image_url\": {\"url\": f\"data:image/jpeg;base64,{pokemon_image_b64}\"},\n",
    "                }\n",
    "            ]\n",
    "        ),\n",
    "    ]\n",
    "\n",
    "    answer = model.with_structured_output(Nicknames).invoke(messages)\n",
    "\n",
    "    return answer"
   ]
  },
  {
   "cell_type": "code",
   "execution_count": 115,
   "metadata": {},
   "outputs": [
    {
     "data": {
      "text/html": [
       "<pre style=\"white-space:pre;overflow-x:auto;line-height:normal;font-family:Menlo,'DejaVu Sans Mono',consolas,'Courier New',monospace\"></pre>\n"
      ],
      "text/plain": []
     },
     "metadata": {},
     "output_type": "display_data"
    },
    {
     "data": {
      "image/png": "[encoded data removed]",
      "text/plain": [
       "\u001b[1m<\u001b[0m\u001b[1;95mPIL.PngImagePlugin.PngImageFile\u001b[0m\u001b[39m image \u001b[0m\u001b[33mmode\u001b[0m\u001b[39m=\u001b[0m\u001b[35mRGBA\u001b[0m\u001b[39m \u001b[0m\u001b[33msize\u001b[0m\u001b[39m=\u001b[0m\u001b[35m308x190\u001b[0m\u001b[39m at \u001b[0m\u001b[1;36m0x11B1DA8A0\u001b[0m\u001b[1m>\u001b[0m"
      ]
     },
     "metadata": {},
     "output_type": "display_data"
    },
    {
     "data": {
      "text/html": [
       "<pre style=\"white-space:pre;overflow-x:auto;line-height:normal;font-family:Menlo,'DejaVu Sans Mono',consolas,'Courier New',monospace\"></pre>\n"
      ],
      "text/plain": []
     },
     "metadata": {},
     "output_type": "display_data"
    },
    {
     "data": {
      "text/plain": [
       "\u001b[1;35mNicknames\u001b[0m\u001b[1m(\u001b[0m\u001b[33mnicknames\u001b[0m=\u001b[1m[\u001b[0m\u001b[32m'Sparky'\u001b[0m, \u001b[32m'Zappy'\u001b[0m, \u001b[32m'Bolt'\u001b[0m, \u001b[32m'Flicker'\u001b[0m, \u001b[32m'Buzz'\u001b[0m\u001b[1m]\u001b[0m\u001b[1m)\u001b[0m"
      ]
     },
     "execution_count": 115,
     "metadata": {},
     "output_type": "execute_result"
    }
   ],
   "source": [
    "get_nicknames('pikachu')"
   ]
  },
  {
   "cell_type": "code",
   "execution_count": null,
   "metadata": {},
   "outputs": [],
   "source": []
  }
 ],
 "metadata": {
  "kernelspec": {
   "display_name": ".venv",
   "language": "python",
   "name": "python3"
  },
  "language_info": {
   "codemirror_mode": {
    "name": "ipython",
    "version": 3
   },
   "file_extension": ".py",
   "mimetype": "text/x-python",
   "name": "python",
   "nbconvert_exporter": "python",
   "pygments_lexer": "ipython3",
   "version": "3.12.7"
  }
 },
 "nbformat": 4,
 "nbformat_minor": 2
}
